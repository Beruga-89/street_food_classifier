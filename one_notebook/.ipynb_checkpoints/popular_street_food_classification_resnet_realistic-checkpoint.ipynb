{
 "cells": [
  {
   "cell_type": "markdown",
   "id": "3d7ca41f",
   "metadata": {},
   "source": [
    "# 📚 Popular Street Food Classification with ResNet\n",
    "\n",
    "Dieses Notebook demonstriert den Aufbau und das Training eines ResNet-Modells zur Klassifizierung von Streetfood-Bildern.\n"
   ]
  },
  {
   "cell_type": "code",
   "execution_count": null,
   "id": "c202bdc9",
   "metadata": {},
   "outputs": [],
   "source": [
    "from src.config import seed_everything, DEVICE\n",
    "from src.dataset import get_data_loaders\n",
    "from src.model import get_model\n",
    "from src.train import train\n",
    "from src.utils import plot_confusion_matrix\n"
   ]
  },
  {
   "cell_type": "markdown",
   "id": "1f98ce0c",
   "metadata": {},
   "source": [
    "## 🌱 Setup und Datenvorbereitung"
   ]
  },
  {
   "cell_type": "code",
   "execution_count": null,
   "id": "26d46392",
   "metadata": {},
   "outputs": [],
   "source": [
    "seed_everything()\n",
    "train_loader, val_loader = get_data_loaders()"
   ]
  },
  {
   "cell_type": "markdown",
   "id": "6c96755f",
   "metadata": {},
   "source": [
    "## 🏗️ Modell erstellen und trainieren"
   ]
  },
  {
   "cell_type": "code",
   "execution_count": null,
   "id": "daf64081",
   "metadata": {},
   "outputs": [],
   "source": [
    "model = get_model()\n",
    "model = train(model, train_loader, val_loader)"
   ]
  },
  {
   "cell_type": "markdown",
   "id": "8bce64b2",
   "metadata": {},
   "source": [
    "## 🧪 Evaluation"
   ]
  },
  {
   "cell_type": "code",
   "execution_count": null,
   "id": "0cc9bf80",
   "metadata": {},
   "outputs": [],
   "source": [
    "from sklearn.metrics import accuracy_score, f1_score\n",
    "import torch\n",
    "\n",
    "model.load_state_dict(torch.load('models/best_model.pth'))\n",
    "model.eval()\n",
    "y_true, y_pred = [], []\n",
    "with torch.no_grad():\n",
    "    for inputs, labels in val_loader:\n",
    "        inputs = inputs.to(DEVICE)\n",
    "        outputs = model(inputs)\n",
    "        _, preds = torch.max(outputs, 1)\n",
    "        y_true.extend(labels.numpy())\n",
    "        y_pred.extend(preds.cpu().numpy())\n",
    "\n",
    "acc = accuracy_score(y_true, y_pred)\n",
    "f1 = f1_score(y_true, y_pred, average='weighted')\n",
    "print(f'Validation Accuracy: {acc:.4f}')\n",
    "print(f'Validation F1-Score: {f1:.4f}')"
   ]
  },
  {
   "cell_type": "markdown",
   "id": "89e0453f",
   "metadata": {},
   "source": [
    "## 🔍 Visualisierung der Confusion Matrix"
   ]
  },
  {
   "cell_type": "code",
   "execution_count": null,
   "id": "77751475",
   "metadata": {},
   "outputs": [],
   "source": [
    "plot_confusion_matrix(y_true, y_pred)"
   ]
  }
 ],
 "metadata": {},
 "nbformat": 4,
 "nbformat_minor": 5
}
