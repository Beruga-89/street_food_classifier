{
 "cells": [
  {
   "cell_type": "markdown",
   "id": "1e7104f8",
   "metadata": {},
   "source": [
    "## 1. Import und Setup"
   ]
  },
  {
   "cell_type": "code",
   "execution_count": null,
   "id": "def122c7",
   "metadata": {},
   "outputs": [],
   "source": [
    "import torch\n",
    "import torch.nn as nn\n",
    "import torch.optim as optim\n",
    "from torchvision import datasets, transforms, models\n",
    "from torch.utils.data import DataLoader, random_split\n",
    "from pathlib import Path\n",
    "import logging\n",
    "\n",
    "# Logging Setup\n",
    "logging.basicConfig(level=logging.INFO)\n",
    "logger = logging.getLogger(__name__)\n",
    "\n",
    "# Device\n",
    "device = \"cuda\" if torch.cuda.is_available() else \"cpu\"\n",
    "logger.info(f\"Using device: {device}\")"
   ]
  },
  {
   "cell_type": "markdown",
   "id": "99ea01a1",
   "metadata": {},
   "source": [
    "## 2. Datenvorbereitung"
   ]
  },
  {
   "cell_type": "code",
   "execution_count": null,
   "id": "892791f8",
   "metadata": {},
   "outputs": [],
   "source": [
    "def prepare_data(data_dir: Path, val_split: float = 0.2, batch_size: int = 32):\n",
    "    transform = transforms.Compose([\n",
    "        transforms.Resize((224, 224)),\n",
    "        transforms.ToTensor(),\n",
    "    ])\n",
    "    dataset = datasets.ImageFolder(data_dir, transform=transform)\n",
    "    val_size = int(len(dataset) * val_split)\n",
    "    train_size = len(dataset) - val_size\n",
    "    train_ds, val_ds = random_split(dataset, [train_size, val_size])\n",
    "    train_loader = DataLoader(train_ds, batch_size=batch_size, shuffle=True)\n",
    "    val_loader = DataLoader(val_ds, batch_size=batch_size, shuffle=False)\n",
    "    logger.info(f\"Dataset prepared: {train_size} train, {val_size} val\")\n",
    "    return train_loader, val_loader"
   ]
  },
  {
   "cell_type": "markdown",
   "id": "339458e3",
   "metadata": {},
   "source": [
    "## 3. Modellaufbau"
   ]
  },
  {
   "cell_type": "code",
   "execution_count": null,
   "id": "9bd5917e",
   "metadata": {},
   "outputs": [],
   "source": [
    "def build_model(num_classes: int) -> nn.Module:\n",
    "    model = models.resnet18(pretrained=True)\n",
    "    model.fc = nn.Linear(model.fc.in_features, num_classes)\n",
    "    return model.to(device)"
   ]
  },
  {
   "cell_type": "markdown",
   "id": "4b61a677",
   "metadata": {},
   "source": [
    "## 4. Training"
   ]
  },
  {
   "cell_type": "code",
   "execution_count": null,
   "id": "8c5e3383",
   "metadata": {},
   "outputs": [],
   "source": [
    "def train(model: nn.Module, train_loader, val_loader, epochs: int = 10):\n",
    "    criterion = nn.CrossEntropyLoss()\n",
    "    optimizer = optim.Adam(model.parameters(), lr=0.001)\n",
    "    history = {'train_loss': [], 'val_loss': [], 'train_acc': [], 'val_acc': []}\n",
    "    for epoch in range(epochs):\n",
    "        model.train()\n",
    "        running_loss = 0.0\n",
    "        for images, labels in train_loader:\n",
    "            images, labels = images.to(device), labels.to(device)\n",
    "            optimizer.zero_grad()\n",
    "            outputs = model(images)\n",
    "            loss = criterion(outputs, labels)\n",
    "            loss.backward()\n",
    "            optimizer.step()\n",
    "            running_loss += loss.item()\n",
    "        avg_train_loss = running_loss / len(train_loader)\n",
    "        history['train_loss'].append(avg_train_loss)\n",
    "        # Validation\n",
    "        model.eval()\n",
    "        correct = total = val_loss_accum = 0\n",
    "        with torch.no_grad():\n",
    "            for images, labels in val_loader:\n",
    "                images, labels = images.to(device), labels.to(device)\n",
    "                outputs = model(images)\n",
    "                loss = criterion(outputs, labels)\n",
    "                val_loss_accum += loss.item()\n",
    "                _, preds = torch.max(outputs, 1)\n",
    "                correct += (preds == labels).sum().item()\n",
    "                total += labels.size(0)\n",
    "        avg_val_loss = val_loss_accum / len(val_loader)\n",
    "        val_accuracy = 100 * correct / total\n",
    "        history['val_loss'].append(avg_val_loss)\n",
    "        history['train_acc'].append(100 * (len(train_loader.dataset) - val_size) / len(train_loader.dataset))  # placeholder\n",
    "        history['val_acc'].append(val_accuracy)\n",
    "        logger.info(f\"Epoch {epoch+1}/{epochs} - Train Loss: {avg_train_loss:.4f}, Val Loss: {avg_val_loss:.4f}, Val Acc: {val_accuracy:.2f}%\")\n",
    "    return history"
   ]
  },
  {
   "cell_type": "markdown",
   "id": "0b5d0ada",
   "metadata": {},
   "source": [
    "## 5. Main"
   ]
  },
  {
   "cell_type": "code",
   "execution_count": null,
   "id": "3136c9f3",
   "metadata": {},
   "outputs": [],
   "source": [
    "def main():\n",
    "    data_dir = Path('Kaggle/popular_street_foods/dataset')\n",
    "    train_loader, val_loader = prepare_data(data_dir)\n",
    "    num_classes = len(train_loader.dataset.dataset.classes)\n",
    "    model = build_model(num_classes)\n",
    "    history = train(model, train_loader, val_loader, epochs=10)\n",
    "    # Plotten\n",
    "    plt.figure()\n",
    "    plt.plot(range(1, 11), history['train_loss'], marker='o', label='Train Loss')\n",
    "    plt.plot(range(1, 11), history['val_loss'], marker='o', label='Val Loss')\n",
    "    plt.title('Verlustkurve')\n",
    "    plt.xlabel('Epoche')\n",
    "    plt.ylabel('Verlust')\n",
    "    plt.legend()\n",
    "    plt.show()\n",
    "\n",
    "    plt.figure()\n",
    "    plt.plot(range(1, 11), history['train_acc'], marker='o', label='Train Acc')\n",
    "    plt.plot(range(1, 11), history['val_acc'], marker='o', label='Val Acc')\n",
    "    plt.title('Genauigkeitskurve')\n",
    "    plt.xlabel('Epoche')\n",
    "    plt.ylabel('Genauigkeit (%)')\n",
    "    plt.legend()\n",
    "    plt.show()\n",
    "\n",
    "if __name__ == '__main__':\n",
    "    history = main()"
   ]
  }
 ],
 "metadata": {
  "kaggle": {
   "accelerator": "none",
   "dataSources": [
    {
     "datasetId": 7417631,
     "sourceId": 11810440,
     "sourceType": "datasetVersion"
    }
   ],
   "dockerImageVersionId": 31040,
   "isGpuEnabled": false,
   "isInternetEnabled": true,
   "language": "python",
   "sourceType": "notebook"
  },
  "kernelspec": {
   "display_name": "Python 3 (ipykernel)",
   "language": "python",
   "name": "python3"
  },
  "language_info": {
   "codemirror_mode": {
    "name": "ipython",
    "version": 3
   },
   "file_extension": ".py",
   "mimetype": "text/x-python",
   "name": "python",
   "nbconvert_exporter": "python",
   "pygments_lexer": "ipython3",
   "version": "3.11.1"
  }
 },
 "nbformat": 4,
 "nbformat_minor": 4
}
